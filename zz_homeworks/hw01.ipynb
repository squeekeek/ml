{
 "cells": [
  {
   "cell_type": "markdown",
   "metadata": {},
   "source": [
    "1. Generate a 16x16 - dim position encoding using an interweaved $sin()$ and $cos()$ functions: $B = \\{b_1, b_2, ..., b_{16}\\}$ where $b_i \\in \\mathbb{R}^{16}$. Distribute the domain of 16-dim between $0$ and $2\\pi$."
   ]
  },
  {
   "cell_type": "code",
   "execution_count": 705,
   "metadata": {},
   "outputs": [],
   "source": [
    "import numpy as np\n",
    "import matplotlib.pyplot as plt"
   ]
  },
  {
   "cell_type": "code",
   "execution_count": 706,
   "metadata": {},
   "outputs": [],
   "source": [
    "def get_angles(pos, i, d_model):\n",
    "    # Compute pos / 10000^(2i / [d_model])\n",
    "    angle_rates = 1 / np.power(10000, 2 * (i // 2) / np.float32(d_model))\n",
    "    \n",
    "    # Distribute domain between 0 and 2pi\n",
    "    return np.mod(pos * angle_rates, 2 * np.pi)\n",
    "\n",
    "def pos_enc(pos, d_model):\n",
    "    angle_rads = get_angles(np.arange(pos)[:, np.newaxis], np.arange(d_model)[np.newaxis, :], d_model)\n",
    "    \n",
    "    print(f'required min rad: {0} max rad: {2 * np.pi}')\n",
    "    print(f'min rad: {np.min(angle_rads)} max rad: {np.max(angle_rads)}')\n",
    "    \n",
    "    angle_rads[:, 0::2] = np.sin(angle_rads[:, 0::2]) # sin to even indices\n",
    "    angle_rads[:, 1::2] = np.cos(angle_rads[:, 1::2]) # cos to odd indices\n",
    "    \n",
    "    pos_enc = angle_rads[np.newaxis, ...]\n",
    "    \n",
    "    return pos_enc"
   ]
  },
  {
   "cell_type": "code",
   "execution_count": 707,
   "metadata": {},
   "outputs": [
    {
     "name": "stdout",
     "output_type": "stream",
     "text": [
      "required min rad: 0 max rad: 6.283185307179586\n",
      "min rad: 0.0 max rad: 6.0\n",
      "Shape of result is (1, 16, 16)\n"
     ]
    }
   ],
   "source": [
    "tokens = 16\n",
    "dims = 16\n",
    "\n",
    "pos_enc_res = pos_enc(tokens, dims)\n",
    "\n",
    "print(f'Shape of result is {pos_enc_res.shape}')"
   ]
  },
  {
   "cell_type": "markdown",
   "metadata": {},
   "source": [
    "2. If $B$ is a set of basis vectors, are the vectors orthogonal? Orthonormal? If not, make the basis vectors orthogonal and orthonormal using Gram-Schmidt method."
   ]
  },
  {
   "cell_type": "code",
   "execution_count": 708,
   "metadata": {},
   "outputs": [],
   "source": [
    "def check_orthonormal(mat):\n",
    "    # A^T * A = I to check for orthogonality\n",
    "    # Columns of A should be the bases\n",
    "    check_mat = np.dot(mat.T, mat)\n",
    "    cols_sum = np.sum(check_mat, axis=0)\n",
    "    \n",
    "    # Return (is_orthogonal, is_orthonormal)\n",
    "    return np.bitwise_and.reduce(cols_sum <= 1 + (1e-8)), check_normal(mat)\n",
    "\n",
    "def get_basis_with_vector(basis, vec):\n",
    "    sub_scales = np.dot(basis.T, vec)\n",
    "    sub_vecs = sub_scales.T * basis\n",
    "    \n",
    "    basis_vec = vec[:, 0] - np.sum(sub_vecs, axis=1)\n",
    "    basis_vec_norm = np.linalg.norm(basis_vec)\n",
    "    \n",
    "    if basis_vec_norm < 1e-7:\n",
    "        return np.array([[0] * len(vec)])\n",
    "    else:\n",
    "        return basis_vec / basis_vec_norm\n",
    "\n",
    "def get_basis_gs(mat):\n",
    "    # Get basis using Gram-Schmidt\n",
    "    sigma_err = 1e-8\n",
    "    \n",
    "    basis = np.zeros(mat.shape)\n",
    "    is_basis = []\n",
    "    n_cols = mat.shape[-1]\n",
    "    \n",
    "    if mat.shape[-1] > mat.shape[-2]:\n",
    "        print(f'WARN: Vectors > dimensions in this matrix and are linearly dependent!')\n",
    "    \n",
    "    if mat.shape[-1] == mat.shape[-2]:\n",
    "        if np.abs(np.linalg.det(mat)) < 1e-7:\n",
    "            print(f'WARN: det(B) of this square matrix is zero and are linear dependent!')\n",
    "    \n",
    "    #basis[:, 0] = mat[:, 0] / np.linalg.norm(mat[:, 0])\n",
    "    \n",
    "    for i in range(n_cols):\n",
    "        basis[:, i] = get_basis_with_vector(basis[:, :i], mat[:, i, np.newaxis])\n",
    "        \n",
    "        # Use \"twice is enough\" algorithm of Kahan and Parlett for more stability\n",
    "        if np.linalg.norm(mat[:, i]) <= sigma_err * np.linalg.norm(basis[:, i]):\n",
    "            # Case 1: No need to reorthogonalize\n",
    "            pass\n",
    "        else:\n",
    "            new_basis = get_basis_with_vector(basis[:, :i], basis[:, i, np.newaxis])\n",
    "            \n",
    "            if np.linalg.norm(basis[:, i]) <= sigma_err * np.linalg.norm(new_basis):\n",
    "                # Case 2: Get the reorthogonalized vector\n",
    "                basis[:, i] = new_basis\n",
    "            else:\n",
    "                # Case 3: Zero vector\n",
    "                pass\n",
    "        \n",
    "        if (np.abs(basis[:, i]) < sigma_err).all():\n",
    "            print(f'WARN: Vector {i} of this matrix is linearly dependent!')\n",
    "            is_basis.append(False)\n",
    "        else:\n",
    "            basis[:, i] = basis[:, i] / np.linalg.norm(basis[:, i])\n",
    "            is_basis.append(True)\n",
    "        \n",
    "    return basis.T[np.where(is_basis)].T"
   ]
  },
  {
   "cell_type": "code",
   "execution_count": 709,
   "metadata": {},
   "outputs": [
    {
     "name": "stdout",
     "output_type": "stream",
     "text": [
      "Columns of B are orthogonal? False\n",
      "Columns of B are normalized? False\n"
     ]
    }
   ],
   "source": [
    "pos_enc_cols_is_ortho, pos_enc_cols_is_normal = check_orthonormal(pos_enc_res[0])\n",
    "\n",
    "print(f'Columns of B are orthogonal? {pos_enc_cols_is_normal}')\n",
    "print(f'Columns of B are normalized? {pos_enc_cols_is_normal}')"
   ]
  },
  {
   "cell_type": "markdown",
   "metadata": {},
   "source": [
    "From the output above, we can deduce that the positional encoded vectors are neither orthogonal nor orthonormal. We shall find orthonormal bases using the Gram-Schmidt process with QR decomposition as a check."
   ]
  },
  {
   "cell_type": "code",
   "execution_count": 716,
   "metadata": {},
   "outputs": [
    {
     "name": "stdout",
     "output_type": "stream",
     "text": [
      "WARN: det(B) of this square matrix is zero and are linear dependent!\n",
      "WARN: Vector 10 of this matrix is linearly dependent!\n",
      "WARN: Vector 11 of this matrix is linearly dependent!\n",
      "WARN: Vector 12 of this matrix is linearly dependent!\n",
      "WARN: Vector 13 of this matrix is linearly dependent!\n",
      "WARN: Vector 14 of this matrix is linearly dependent!\n",
      "WARN: Vector 15 of this matrix is linearly dependent!\n",
      "Columns of Q are orthogonal? True\n",
      "Columns of Q are normalized? True\n",
      "Columns of basis2 are orthogonal? True\n",
      "Columns of basis2 are normalized? True\n",
      "Matrix contains 10 basis vectors\n"
     ]
    }
   ],
   "source": [
    "basis, r = np.linalg.qr(pos_enc_res[0])\n",
    "basis2 = get_basis_gs(pos_enc_res[0])\n",
    "\n",
    "basis_is_ortho, basis_is_normal = check_orthonormal(basis)\n",
    "basis2_is_ortho, basis2_is_normal = check_orthonormal(basis2)\n",
    "\n",
    "print(f'Columns of Q are orthogonal? {basis_is_ortho}')\n",
    "print(f'Columns of Q are normalized? {basis_is_normal}')\n",
    "\n",
    "print(f'Columns of basis2 are orthogonal? {basis2_is_ortho}')\n",
    "print(f'Columns of basis2 are normalized? {basis2_is_normal}')\n",
    "\n",
    "print(f'Matrix contains {basis2.shape[-1]} basis vectors')"
   ]
  },
  {
   "cell_type": "markdown",
   "metadata": {},
   "source": [
    "From the output above, we have shown that the initial matrix has a zero determinant. Hence, its columns are linearly dependent. There are only 10 resulting bases vectors out of the 16 original dimensions."
   ]
  },
  {
   "cell_type": "markdown",
   "metadata": {},
   "source": [
    "3. Generate a colored visualization of vectors in (1) and (2)"
   ]
  },
  {
   "cell_type": "code",
   "execution_count": 711,
   "metadata": {},
   "outputs": [
    {
     "data": {
      "image/png": "[encoded data removed]",
      "text/plain": [
       "<Figure size 864x576 with 2 Axes>"
      ]
     },
     "metadata": {
      "needs_background": "light"
     },
     "output_type": "display_data"
    }
   ],
   "source": [
    "plt.figure(figsize=(12, 8))\n",
    "plt.title('Generated 16x16 position encoding')\n",
    "plt.pcolormesh(pos_enc_res[0], cmap='viridis')\n",
    "plt.xlabel('Dimension')\n",
    "plt.xlim((0, dims))\n",
    "plt.ylim((tokens, 0))\n",
    "plt.ylabel('Position')\n",
    "plt.colorbar()\n",
    "plt.show()"
   ]
  },
  {
   "cell_type": "code",
   "execution_count": 715,
   "metadata": {},
   "outputs": [
    {
     "data": {
      "image/png": "[encoded data removed]",
      "text/plain": [
       "<Figure size 864x576 with 2 Axes>"
      ]
     },
     "metadata": {
      "needs_background": "light"
     },
     "output_type": "display_data"
    }
   ],
   "source": [
    "plt.figure(figsize=(12, 8))\n",
    "plt.title('Basis of generated 16x16 position encoding')\n",
    "plt.pcolormesh(basis2, cmap='viridis')\n",
    "plt.xlabel('Basis vector index')\n",
    "plt.xlim((0, basis2.shape[-1]))\n",
    "plt.ylim((basis2.shape[-2], 0))\n",
    "plt.ylabel('Position')\n",
    "plt.colorbar()\n",
    "plt.show()"
   ]
  },
  {
   "cell_type": "markdown",
   "metadata": {},
   "source": [
    "As shown above, the plot of the initial positional encoding matrix has around 8-9 similar vectors while the second one with the bases plotted have unique ones."
   ]
  }
 ],
 "metadata": {
  "kernelspec": {
   "display_name": "ee298m",
   "language": "python",
   "name": "ee298m"
  },
  "language_info": {
   "codemirror_mode": {
    "name": "ipython",
    "version": 3
   },
   "file_extension": ".py",
   "mimetype": "text/x-python",
   "name": "python",
   "nbconvert_exporter": "python",
   "pygments_lexer": "ipython3",
   "version": "3.8.2"
  }
 },
 "nbformat": 4,
 "nbformat_minor": 4
}
